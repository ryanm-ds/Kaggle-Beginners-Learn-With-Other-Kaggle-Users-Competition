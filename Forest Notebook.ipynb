{
 "cells": [
  {
   "cell_type": "code",
   "execution_count": 1,
   "metadata": {
    "collapsed": true
   },
   "outputs": [],
   "source": [
    "import pandas as pd\n",
    "import numpy as np\n",
    "import matplotlib.pyplot as plt\n",
    "import seaborn as sns"
   ]
  },
  {
   "cell_type": "code",
   "execution_count": 2,
   "metadata": {
    "collapsed": true
   },
   "outputs": [],
   "source": [
    "train = pd.read_csv('train.csv')\n",
    "test = pd.read_csv('test.csv')"
   ]
  },
  {
   "cell_type": "code",
   "execution_count": 3,
   "metadata": {},
   "outputs": [
    {
     "data": {
      "text/html": [
       "<div>\n",
       "<style>\n",
       "    .dataframe thead tr:only-child th {\n",
       "        text-align: right;\n",
       "    }\n",
       "\n",
       "    .dataframe thead th {\n",
       "        text-align: left;\n",
       "    }\n",
       "\n",
       "    .dataframe tbody tr th {\n",
       "        vertical-align: top;\n",
       "    }\n",
       "</style>\n",
       "<table border=\"1\" class=\"dataframe\">\n",
       "  <thead>\n",
       "    <tr style=\"text-align: right;\">\n",
       "      <th></th>\n",
       "      <th>Id</th>\n",
       "      <th>Elevation</th>\n",
       "      <th>Aspect</th>\n",
       "      <th>Slope</th>\n",
       "      <th>Horizontal_Distance_To_Hydrology</th>\n",
       "      <th>Vertical_Distance_To_Hydrology</th>\n",
       "      <th>Horizontal_Distance_To_Roadways</th>\n",
       "      <th>Hillshade_9am</th>\n",
       "      <th>Hillshade_Noon</th>\n",
       "      <th>Hillshade_3pm</th>\n",
       "      <th>...</th>\n",
       "      <th>Soil_Type32</th>\n",
       "      <th>Soil_Type33</th>\n",
       "      <th>Soil_Type34</th>\n",
       "      <th>Soil_Type35</th>\n",
       "      <th>Soil_Type36</th>\n",
       "      <th>Soil_Type37</th>\n",
       "      <th>Soil_Type38</th>\n",
       "      <th>Soil_Type39</th>\n",
       "      <th>Soil_Type40</th>\n",
       "      <th>Cover_Type</th>\n",
       "    </tr>\n",
       "  </thead>\n",
       "  <tbody>\n",
       "    <tr>\n",
       "      <th>0</th>\n",
       "      <td>1</td>\n",
       "      <td>2596</td>\n",
       "      <td>51</td>\n",
       "      <td>3</td>\n",
       "      <td>258</td>\n",
       "      <td>0</td>\n",
       "      <td>510</td>\n",
       "      <td>221</td>\n",
       "      <td>232</td>\n",
       "      <td>148</td>\n",
       "      <td>...</td>\n",
       "      <td>0</td>\n",
       "      <td>0</td>\n",
       "      <td>0</td>\n",
       "      <td>0</td>\n",
       "      <td>0</td>\n",
       "      <td>0</td>\n",
       "      <td>0</td>\n",
       "      <td>0</td>\n",
       "      <td>0</td>\n",
       "      <td>5</td>\n",
       "    </tr>\n",
       "    <tr>\n",
       "      <th>1</th>\n",
       "      <td>2</td>\n",
       "      <td>2590</td>\n",
       "      <td>56</td>\n",
       "      <td>2</td>\n",
       "      <td>212</td>\n",
       "      <td>-6</td>\n",
       "      <td>390</td>\n",
       "      <td>220</td>\n",
       "      <td>235</td>\n",
       "      <td>151</td>\n",
       "      <td>...</td>\n",
       "      <td>0</td>\n",
       "      <td>0</td>\n",
       "      <td>0</td>\n",
       "      <td>0</td>\n",
       "      <td>0</td>\n",
       "      <td>0</td>\n",
       "      <td>0</td>\n",
       "      <td>0</td>\n",
       "      <td>0</td>\n",
       "      <td>5</td>\n",
       "    </tr>\n",
       "    <tr>\n",
       "      <th>2</th>\n",
       "      <td>3</td>\n",
       "      <td>2804</td>\n",
       "      <td>139</td>\n",
       "      <td>9</td>\n",
       "      <td>268</td>\n",
       "      <td>65</td>\n",
       "      <td>3180</td>\n",
       "      <td>234</td>\n",
       "      <td>238</td>\n",
       "      <td>135</td>\n",
       "      <td>...</td>\n",
       "      <td>0</td>\n",
       "      <td>0</td>\n",
       "      <td>0</td>\n",
       "      <td>0</td>\n",
       "      <td>0</td>\n",
       "      <td>0</td>\n",
       "      <td>0</td>\n",
       "      <td>0</td>\n",
       "      <td>0</td>\n",
       "      <td>2</td>\n",
       "    </tr>\n",
       "    <tr>\n",
       "      <th>3</th>\n",
       "      <td>4</td>\n",
       "      <td>2785</td>\n",
       "      <td>155</td>\n",
       "      <td>18</td>\n",
       "      <td>242</td>\n",
       "      <td>118</td>\n",
       "      <td>3090</td>\n",
       "      <td>238</td>\n",
       "      <td>238</td>\n",
       "      <td>122</td>\n",
       "      <td>...</td>\n",
       "      <td>0</td>\n",
       "      <td>0</td>\n",
       "      <td>0</td>\n",
       "      <td>0</td>\n",
       "      <td>0</td>\n",
       "      <td>0</td>\n",
       "      <td>0</td>\n",
       "      <td>0</td>\n",
       "      <td>0</td>\n",
       "      <td>2</td>\n",
       "    </tr>\n",
       "    <tr>\n",
       "      <th>4</th>\n",
       "      <td>5</td>\n",
       "      <td>2595</td>\n",
       "      <td>45</td>\n",
       "      <td>2</td>\n",
       "      <td>153</td>\n",
       "      <td>-1</td>\n",
       "      <td>391</td>\n",
       "      <td>220</td>\n",
       "      <td>234</td>\n",
       "      <td>150</td>\n",
       "      <td>...</td>\n",
       "      <td>0</td>\n",
       "      <td>0</td>\n",
       "      <td>0</td>\n",
       "      <td>0</td>\n",
       "      <td>0</td>\n",
       "      <td>0</td>\n",
       "      <td>0</td>\n",
       "      <td>0</td>\n",
       "      <td>0</td>\n",
       "      <td>5</td>\n",
       "    </tr>\n",
       "  </tbody>\n",
       "</table>\n",
       "<p>5 rows × 56 columns</p>\n",
       "</div>"
      ],
      "text/plain": [
       "   Id  Elevation  Aspect  Slope  Horizontal_Distance_To_Hydrology  \\\n",
       "0   1       2596      51      3                               258   \n",
       "1   2       2590      56      2                               212   \n",
       "2   3       2804     139      9                               268   \n",
       "3   4       2785     155     18                               242   \n",
       "4   5       2595      45      2                               153   \n",
       "\n",
       "   Vertical_Distance_To_Hydrology  Horizontal_Distance_To_Roadways  \\\n",
       "0                               0                              510   \n",
       "1                              -6                              390   \n",
       "2                              65                             3180   \n",
       "3                             118                             3090   \n",
       "4                              -1                              391   \n",
       "\n",
       "   Hillshade_9am  Hillshade_Noon  Hillshade_3pm     ...      Soil_Type32  \\\n",
       "0            221             232            148     ...                0   \n",
       "1            220             235            151     ...                0   \n",
       "2            234             238            135     ...                0   \n",
       "3            238             238            122     ...                0   \n",
       "4            220             234            150     ...                0   \n",
       "\n",
       "   Soil_Type33  Soil_Type34  Soil_Type35  Soil_Type36  Soil_Type37  \\\n",
       "0            0            0            0            0            0   \n",
       "1            0            0            0            0            0   \n",
       "2            0            0            0            0            0   \n",
       "3            0            0            0            0            0   \n",
       "4            0            0            0            0            0   \n",
       "\n",
       "   Soil_Type38  Soil_Type39  Soil_Type40  Cover_Type  \n",
       "0            0            0            0           5  \n",
       "1            0            0            0           5  \n",
       "2            0            0            0           2  \n",
       "3            0            0            0           2  \n",
       "4            0            0            0           5  \n",
       "\n",
       "[5 rows x 56 columns]"
      ]
     },
     "execution_count": 3,
     "metadata": {},
     "output_type": "execute_result"
    }
   ],
   "source": [
    "train.head()"
   ]
  },
  {
   "cell_type": "code",
   "execution_count": 4,
   "metadata": {},
   "outputs": [
    {
     "data": {
      "text/plain": [
       "Index(['Id', 'Elevation', 'Aspect', 'Slope',\n",
       "       'Horizontal_Distance_To_Hydrology', 'Vertical_Distance_To_Hydrology',\n",
       "       'Horizontal_Distance_To_Roadways', 'Hillshade_9am', 'Hillshade_Noon',\n",
       "       'Hillshade_3pm', 'Horizontal_Distance_To_Fire_Points',\n",
       "       'Wilderness_Area1', 'Wilderness_Area2', 'Wilderness_Area3',\n",
       "       'Wilderness_Area4', 'Soil_Type1', 'Soil_Type2', 'Soil_Type3',\n",
       "       'Soil_Type4', 'Soil_Type5', 'Soil_Type6', 'Soil_Type7', 'Soil_Type8',\n",
       "       'Soil_Type9', 'Soil_Type10', 'Soil_Type11', 'Soil_Type12',\n",
       "       'Soil_Type13', 'Soil_Type14', 'Soil_Type15', 'Soil_Type16',\n",
       "       'Soil_Type17', 'Soil_Type18', 'Soil_Type19', 'Soil_Type20',\n",
       "       'Soil_Type21', 'Soil_Type22', 'Soil_Type23', 'Soil_Type24',\n",
       "       'Soil_Type25', 'Soil_Type26', 'Soil_Type27', 'Soil_Type28',\n",
       "       'Soil_Type29', 'Soil_Type30', 'Soil_Type31', 'Soil_Type32',\n",
       "       'Soil_Type33', 'Soil_Type34', 'Soil_Type35', 'Soil_Type36',\n",
       "       'Soil_Type37', 'Soil_Type38', 'Soil_Type39', 'Soil_Type40',\n",
       "       'Cover_Type'],\n",
       "      dtype='object')"
      ]
     },
     "execution_count": 4,
     "metadata": {},
     "output_type": "execute_result"
    }
   ],
   "source": [
    "train.columns"
   ]
  },
  {
   "cell_type": "code",
   "execution_count": 5,
   "metadata": {},
   "outputs": [
    {
     "name": "stdout",
     "output_type": "stream",
     "text": [
      "<class 'pandas.core.frame.DataFrame'>\n",
      "RangeIndex: 15120 entries, 0 to 15119\n",
      "Data columns (total 56 columns):\n",
      "Id                                    15120 non-null int64\n",
      "Elevation                             15120 non-null int64\n",
      "Aspect                                15120 non-null int64\n",
      "Slope                                 15120 non-null int64\n",
      "Horizontal_Distance_To_Hydrology      15120 non-null int64\n",
      "Vertical_Distance_To_Hydrology        15120 non-null int64\n",
      "Horizontal_Distance_To_Roadways       15120 non-null int64\n",
      "Hillshade_9am                         15120 non-null int64\n",
      "Hillshade_Noon                        15120 non-null int64\n",
      "Hillshade_3pm                         15120 non-null int64\n",
      "Horizontal_Distance_To_Fire_Points    15120 non-null int64\n",
      "Wilderness_Area1                      15120 non-null int64\n",
      "Wilderness_Area2                      15120 non-null int64\n",
      "Wilderness_Area3                      15120 non-null int64\n",
      "Wilderness_Area4                      15120 non-null int64\n",
      "Soil_Type1                            15120 non-null int64\n",
      "Soil_Type2                            15120 non-null int64\n",
      "Soil_Type3                            15120 non-null int64\n",
      "Soil_Type4                            15120 non-null int64\n",
      "Soil_Type5                            15120 non-null int64\n",
      "Soil_Type6                            15120 non-null int64\n",
      "Soil_Type7                            15120 non-null int64\n",
      "Soil_Type8                            15120 non-null int64\n",
      "Soil_Type9                            15120 non-null int64\n",
      "Soil_Type10                           15120 non-null int64\n",
      "Soil_Type11                           15120 non-null int64\n",
      "Soil_Type12                           15120 non-null int64\n",
      "Soil_Type13                           15120 non-null int64\n",
      "Soil_Type14                           15120 non-null int64\n",
      "Soil_Type15                           15120 non-null int64\n",
      "Soil_Type16                           15120 non-null int64\n",
      "Soil_Type17                           15120 non-null int64\n",
      "Soil_Type18                           15120 non-null int64\n",
      "Soil_Type19                           15120 non-null int64\n",
      "Soil_Type20                           15120 non-null int64\n",
      "Soil_Type21                           15120 non-null int64\n",
      "Soil_Type22                           15120 non-null int64\n",
      "Soil_Type23                           15120 non-null int64\n",
      "Soil_Type24                           15120 non-null int64\n",
      "Soil_Type25                           15120 non-null int64\n",
      "Soil_Type26                           15120 non-null int64\n",
      "Soil_Type27                           15120 non-null int64\n",
      "Soil_Type28                           15120 non-null int64\n",
      "Soil_Type29                           15120 non-null int64\n",
      "Soil_Type30                           15120 non-null int64\n",
      "Soil_Type31                           15120 non-null int64\n",
      "Soil_Type32                           15120 non-null int64\n",
      "Soil_Type33                           15120 non-null int64\n",
      "Soil_Type34                           15120 non-null int64\n",
      "Soil_Type35                           15120 non-null int64\n",
      "Soil_Type36                           15120 non-null int64\n",
      "Soil_Type37                           15120 non-null int64\n",
      "Soil_Type38                           15120 non-null int64\n",
      "Soil_Type39                           15120 non-null int64\n",
      "Soil_Type40                           15120 non-null int64\n",
      "Cover_Type                            15120 non-null int64\n",
      "dtypes: int64(56)\n",
      "memory usage: 6.5 MB\n"
     ]
    }
   ],
   "source": [
    "train.info()"
   ]
  },
  {
   "cell_type": "code",
   "execution_count": 6,
   "metadata": {},
   "outputs": [
    {
     "data": {
      "text/plain": [
       "Series([], dtype: int64)"
      ]
     },
     "execution_count": 6,
     "metadata": {},
     "output_type": "execute_result"
    }
   ],
   "source": [
    "train.select_dtypes(exclude=[np.number]).count()"
   ]
  },
  {
   "cell_type": "code",
   "execution_count": 7,
   "metadata": {},
   "outputs": [
    {
     "data": {
      "image/png": "[encoded data removed]",
      "text/plain": [
       "<matplotlib.figure.Figure at 0x10da4d198>"
      ]
     },
     "metadata": {},
     "output_type": "display_data"
    }
   ],
   "source": [
    "plt.hist(train['Cover_Type'])\n",
    "plt.show()"
   ]
  },
  {
   "cell_type": "code",
   "execution_count": 8,
   "metadata": {},
   "outputs": [
    {
     "name": "stdout",
     "output_type": "stream",
     "text": [
      "Id                                    2160\n",
      "Elevation                             2160\n",
      "Aspect                                2160\n",
      "Slope                                 2160\n",
      "Horizontal_Distance_To_Hydrology      2160\n",
      "Vertical_Distance_To_Hydrology        2160\n",
      "Horizontal_Distance_To_Roadways       2160\n",
      "Hillshade_9am                         2160\n",
      "Hillshade_Noon                        2160\n",
      "Hillshade_3pm                         2160\n",
      "Horizontal_Distance_To_Fire_Points    2160\n",
      "Wilderness_Area1                      2160\n",
      "Wilderness_Area2                      2160\n",
      "Wilderness_Area3                      2160\n",
      "Wilderness_Area4                      2160\n",
      "Soil_Type1                            2160\n",
      "Soil_Type2                            2160\n",
      "Soil_Type3                            2160\n",
      "Soil_Type4                            2160\n",
      "Soil_Type5                            2160\n",
      "Soil_Type6                            2160\n",
      "Soil_Type7                            2160\n",
      "Soil_Type8                            2160\n",
      "Soil_Type9                            2160\n",
      "Soil_Type10                           2160\n",
      "Soil_Type11                           2160\n",
      "Soil_Type12                           2160\n",
      "Soil_Type13                           2160\n",
      "Soil_Type14                           2160\n",
      "Soil_Type15                           2160\n",
      "Soil_Type16                           2160\n",
      "Soil_Type17                           2160\n",
      "Soil_Type18                           2160\n",
      "Soil_Type19                           2160\n",
      "Soil_Type20                           2160\n",
      "Soil_Type21                           2160\n",
      "Soil_Type22                           2160\n",
      "Soil_Type23                           2160\n",
      "Soil_Type24                           2160\n",
      "Soil_Type25                           2160\n",
      "Soil_Type26                           2160\n",
      "Soil_Type27                           2160\n",
      "Soil_Type28                           2160\n",
      "Soil_Type29                           2160\n",
      "Soil_Type30                           2160\n",
      "Soil_Type31                           2160\n",
      "Soil_Type32                           2160\n",
      "Soil_Type33                           2160\n",
      "Soil_Type34                           2160\n",
      "Soil_Type35                           2160\n",
      "Soil_Type36                           2160\n",
      "Soil_Type37                           2160\n",
      "Soil_Type38                           2160\n",
      "Soil_Type39                           2160\n",
      "Soil_Type40                           2160\n",
      "Cover_Type                            2160\n",
      "dtype: int64\n",
      "Id                                    2160\n",
      "Elevation                             2160\n",
      "Aspect                                2160\n",
      "Slope                                 2160\n",
      "Horizontal_Distance_To_Hydrology      2160\n",
      "Vertical_Distance_To_Hydrology        2160\n",
      "Horizontal_Distance_To_Roadways       2160\n",
      "Hillshade_9am                         2160\n",
      "Hillshade_Noon                        2160\n",
      "Hillshade_3pm                         2160\n",
      "Horizontal_Distance_To_Fire_Points    2160\n",
      "Wilderness_Area1                      2160\n",
      "Wilderness_Area2                      2160\n",
      "Wilderness_Area3                      2160\n",
      "Wilderness_Area4                      2160\n",
      "Soil_Type1                            2160\n",
      "Soil_Type2                            2160\n",
      "Soil_Type3                            2160\n",
      "Soil_Type4                            2160\n",
      "Soil_Type5                            2160\n",
      "Soil_Type6                            2160\n",
      "Soil_Type7                            2160\n",
      "Soil_Type8                            2160\n",
      "Soil_Type9                            2160\n",
      "Soil_Type10                           2160\n",
      "Soil_Type11                           2160\n",
      "Soil_Type12                           2160\n",
      "Soil_Type13                           2160\n",
      "Soil_Type14                           2160\n",
      "Soil_Type15                           2160\n",
      "Soil_Type16                           2160\n",
      "Soil_Type17                           2160\n",
      "Soil_Type18                           2160\n",
      "Soil_Type19                           2160\n",
      "Soil_Type20                           2160\n",
      "Soil_Type21                           2160\n",
      "Soil_Type22                           2160\n",
      "Soil_Type23                           2160\n",
      "Soil_Type24                           2160\n",
      "Soil_Type25                           2160\n",
      "Soil_Type26                           2160\n",
      "Soil_Type27                           2160\n",
      "Soil_Type28                           2160\n",
      "Soil_Type29                           2160\n",
      "Soil_Type30                           2160\n",
      "Soil_Type31                           2160\n",
      "Soil_Type32                           2160\n",
      "Soil_Type33                           2160\n",
      "Soil_Type34                           2160\n",
      "Soil_Type35                           2160\n",
      "Soil_Type36                           2160\n",
      "Soil_Type37                           2160\n",
      "Soil_Type38                           2160\n",
      "Soil_Type39                           2160\n",
      "Soil_Type40                           2160\n",
      "Cover_Type                            2160\n",
      "dtype: int64\n",
      "Id                                    2160\n",
      "Elevation                             2160\n",
      "Aspect                                2160\n",
      "Slope                                 2160\n",
      "Horizontal_Distance_To_Hydrology      2160\n",
      "Vertical_Distance_To_Hydrology        2160\n",
      "Horizontal_Distance_To_Roadways       2160\n",
      "Hillshade_9am                         2160\n",
      "Hillshade_Noon                        2160\n",
      "Hillshade_3pm                         2160\n",
      "Horizontal_Distance_To_Fire_Points    2160\n",
      "Wilderness_Area1                      2160\n",
      "Wilderness_Area2                      2160\n",
      "Wilderness_Area3                      2160\n",
      "Wilderness_Area4                      2160\n",
      "Soil_Type1                            2160\n",
      "Soil_Type2                            2160\n",
      "Soil_Type3                            2160\n",
      "Soil_Type4                            2160\n",
      "Soil_Type5                            2160\n",
      "Soil_Type6                            2160\n",
      "Soil_Type7                            2160\n",
      "Soil_Type8                            2160\n",
      "Soil_Type9                            2160\n",
      "Soil_Type10                           2160\n",
      "Soil_Type11                           2160\n",
      "Soil_Type12                           2160\n",
      "Soil_Type13                           2160\n",
      "Soil_Type14                           2160\n",
      "Soil_Type15                           2160\n",
      "Soil_Type16                           2160\n",
      "Soil_Type17                           2160\n",
      "Soil_Type18                           2160\n",
      "Soil_Type19                           2160\n",
      "Soil_Type20                           2160\n",
      "Soil_Type21                           2160\n",
      "Soil_Type22                           2160\n",
      "Soil_Type23                           2160\n",
      "Soil_Type24                           2160\n",
      "Soil_Type25                           2160\n",
      "Soil_Type26                           2160\n",
      "Soil_Type27                           2160\n",
      "Soil_Type28                           2160\n",
      "Soil_Type29                           2160\n",
      "Soil_Type30                           2160\n",
      "Soil_Type31                           2160\n",
      "Soil_Type32                           2160\n",
      "Soil_Type33                           2160\n",
      "Soil_Type34                           2160\n",
      "Soil_Type35                           2160\n",
      "Soil_Type36                           2160\n",
      "Soil_Type37                           2160\n",
      "Soil_Type38                           2160\n",
      "Soil_Type39                           2160\n",
      "Soil_Type40                           2160\n",
      "Cover_Type                            2160\n",
      "dtype: int64\n",
      "Id                                    2160\n",
      "Elevation                             2160\n",
      "Aspect                                2160\n",
      "Slope                                 2160\n",
      "Horizontal_Distance_To_Hydrology      2160\n",
      "Vertical_Distance_To_Hydrology        2160\n",
      "Horizontal_Distance_To_Roadways       2160\n",
      "Hillshade_9am                         2160\n",
      "Hillshade_Noon                        2160\n",
      "Hillshade_3pm                         2160\n",
      "Horizontal_Distance_To_Fire_Points    2160\n",
      "Wilderness_Area1                      2160\n",
      "Wilderness_Area2                      2160\n",
      "Wilderness_Area3                      2160\n",
      "Wilderness_Area4                      2160\n",
      "Soil_Type1                            2160\n",
      "Soil_Type2                            2160\n",
      "Soil_Type3                            2160\n",
      "Soil_Type4                            2160\n",
      "Soil_Type5                            2160\n",
      "Soil_Type6                            2160\n",
      "Soil_Type7                            2160\n",
      "Soil_Type8                            2160\n",
      "Soil_Type9                            2160\n",
      "Soil_Type10                           2160\n",
      "Soil_Type11                           2160\n",
      "Soil_Type12                           2160\n",
      "Soil_Type13                           2160\n",
      "Soil_Type14                           2160\n",
      "Soil_Type15                           2160\n",
      "Soil_Type16                           2160\n",
      "Soil_Type17                           2160\n",
      "Soil_Type18                           2160\n",
      "Soil_Type19                           2160\n",
      "Soil_Type20                           2160\n",
      "Soil_Type21                           2160\n",
      "Soil_Type22                           2160\n",
      "Soil_Type23                           2160\n",
      "Soil_Type24                           2160\n",
      "Soil_Type25                           2160\n",
      "Soil_Type26                           2160\n",
      "Soil_Type27                           2160\n",
      "Soil_Type28                           2160\n",
      "Soil_Type29                           2160\n",
      "Soil_Type30                           2160\n",
      "Soil_Type31                           2160\n",
      "Soil_Type32                           2160\n",
      "Soil_Type33                           2160\n",
      "Soil_Type34                           2160\n",
      "Soil_Type35                           2160\n",
      "Soil_Type36                           2160\n",
      "Soil_Type37                           2160\n",
      "Soil_Type38                           2160\n",
      "Soil_Type39                           2160\n",
      "Soil_Type40                           2160\n",
      "Cover_Type                            2160\n",
      "dtype: int64\n",
      "Id                                    2160\n",
      "Elevation                             2160\n",
      "Aspect                                2160\n",
      "Slope                                 2160\n",
      "Horizontal_Distance_To_Hydrology      2160\n",
      "Vertical_Distance_To_Hydrology        2160\n",
      "Horizontal_Distance_To_Roadways       2160\n",
      "Hillshade_9am                         2160\n",
      "Hillshade_Noon                        2160\n",
      "Hillshade_3pm                         2160\n",
      "Horizontal_Distance_To_Fire_Points    2160\n",
      "Wilderness_Area1                      2160\n",
      "Wilderness_Area2                      2160\n",
      "Wilderness_Area3                      2160\n",
      "Wilderness_Area4                      2160\n",
      "Soil_Type1                            2160\n",
      "Soil_Type2                            2160\n",
      "Soil_Type3                            2160\n",
      "Soil_Type4                            2160\n",
      "Soil_Type5                            2160\n",
      "Soil_Type6                            2160\n",
      "Soil_Type7                            2160\n",
      "Soil_Type8                            2160\n",
      "Soil_Type9                            2160\n",
      "Soil_Type10                           2160\n",
      "Soil_Type11                           2160\n",
      "Soil_Type12                           2160\n",
      "Soil_Type13                           2160\n",
      "Soil_Type14                           2160\n",
      "Soil_Type15                           2160\n",
      "Soil_Type16                           2160\n",
      "Soil_Type17                           2160\n",
      "Soil_Type18                           2160\n",
      "Soil_Type19                           2160\n",
      "Soil_Type20                           2160\n",
      "Soil_Type21                           2160\n",
      "Soil_Type22                           2160\n",
      "Soil_Type23                           2160\n",
      "Soil_Type24                           2160\n",
      "Soil_Type25                           2160\n",
      "Soil_Type26                           2160\n",
      "Soil_Type27                           2160\n",
      "Soil_Type28                           2160\n",
      "Soil_Type29                           2160\n",
      "Soil_Type30                           2160\n",
      "Soil_Type31                           2160\n",
      "Soil_Type32                           2160\n",
      "Soil_Type33                           2160\n",
      "Soil_Type34                           2160\n",
      "Soil_Type35                           2160\n",
      "Soil_Type36                           2160\n",
      "Soil_Type37                           2160\n",
      "Soil_Type38                           2160\n",
      "Soil_Type39                           2160\n",
      "Soil_Type40                           2160\n",
      "Cover_Type                            2160\n",
      "dtype: int64\n",
      "Id                                    2160\n",
      "Elevation                             2160\n",
      "Aspect                                2160\n",
      "Slope                                 2160\n",
      "Horizontal_Distance_To_Hydrology      2160\n",
      "Vertical_Distance_To_Hydrology        2160\n",
      "Horizontal_Distance_To_Roadways       2160\n",
      "Hillshade_9am                         2160\n",
      "Hillshade_Noon                        2160\n",
      "Hillshade_3pm                         2160\n",
      "Horizontal_Distance_To_Fire_Points    2160\n",
      "Wilderness_Area1                      2160\n",
      "Wilderness_Area2                      2160\n",
      "Wilderness_Area3                      2160\n",
      "Wilderness_Area4                      2160\n",
      "Soil_Type1                            2160\n",
      "Soil_Type2                            2160\n",
      "Soil_Type3                            2160\n",
      "Soil_Type4                            2160\n",
      "Soil_Type5                            2160\n",
      "Soil_Type6                            2160\n",
      "Soil_Type7                            2160\n",
      "Soil_Type8                            2160\n",
      "Soil_Type9                            2160\n",
      "Soil_Type10                           2160\n",
      "Soil_Type11                           2160\n",
      "Soil_Type12                           2160\n",
      "Soil_Type13                           2160\n",
      "Soil_Type14                           2160\n",
      "Soil_Type15                           2160\n",
      "Soil_Type16                           2160\n",
      "Soil_Type17                           2160\n",
      "Soil_Type18                           2160\n",
      "Soil_Type19                           2160\n",
      "Soil_Type20                           2160\n",
      "Soil_Type21                           2160\n",
      "Soil_Type22                           2160\n",
      "Soil_Type23                           2160\n",
      "Soil_Type24                           2160\n",
      "Soil_Type25                           2160\n",
      "Soil_Type26                           2160\n",
      "Soil_Type27                           2160\n",
      "Soil_Type28                           2160\n",
      "Soil_Type29                           2160\n",
      "Soil_Type30                           2160\n",
      "Soil_Type31                           2160\n",
      "Soil_Type32                           2160\n",
      "Soil_Type33                           2160\n",
      "Soil_Type34                           2160\n",
      "Soil_Type35                           2160\n",
      "Soil_Type36                           2160\n",
      "Soil_Type37                           2160\n",
      "Soil_Type38                           2160\n",
      "Soil_Type39                           2160\n",
      "Soil_Type40                           2160\n",
      "Cover_Type                            2160\n",
      "dtype: int64\n"
     ]
    }
   ],
   "source": [
    "for i in range(1,7):\n",
    "    print(train[train['Cover_Type']==i].count())"
   ]
  },
  {
   "cell_type": "code",
   "execution_count": 9,
   "metadata": {},
   "outputs": [
    {
     "data": {
      "image/png": "[encoded data removed]",
      "text/plain": [
       "<matplotlib.figure.Figure at 0x1164e83c8>"
      ]
     },
     "metadata": {},
     "output_type": "display_data"
    }
   ],
   "source": [
    "bar = train['Cover_Type'].value_counts()\n",
    "plt.bar(bar.index,bar.values)\n",
    "plt.show()"
   ]
  },
  {
   "cell_type": "code",
   "execution_count": 10,
   "metadata": {},
   "outputs": [
    {
     "data": {
      "text/plain": [
       "Cover_Type          1.000000\n",
       "Soil_Type38         0.257810\n",
       "Soil_Type39         0.240384\n",
       "Soil_Type40         0.205851\n",
       "Soil_Type10         0.128972\n",
       "Wilderness_Area3    0.122146\n",
       "Soil_Type35         0.114327\n",
       "Id                  0.108363\n",
       "Slope               0.087722\n",
       "Wilderness_Area4    0.075774\n",
       "Name: Cover_Type, dtype: float64"
      ]
     },
     "execution_count": 10,
     "metadata": {},
     "output_type": "execute_result"
    }
   ],
   "source": [
    "corr = train.corr()\n",
    "corr['Cover_Type'].sort_values(ascending=False)[:10]"
   ]
  },
  {
   "cell_type": "code",
   "execution_count": 11,
   "metadata": {},
   "outputs": [
    {
     "data": {
      "text/html": [
       "<div>\n",
       "<style>\n",
       "    .dataframe thead tr:only-child th {\n",
       "        text-align: right;\n",
       "    }\n",
       "\n",
       "    .dataframe thead th {\n",
       "        text-align: left;\n",
       "    }\n",
       "\n",
       "    .dataframe tbody tr th {\n",
       "        vertical-align: top;\n",
       "    }\n",
       "</style>\n",
       "<table border=\"1\" class=\"dataframe\">\n",
       "  <thead>\n",
       "    <tr style=\"text-align: right;\">\n",
       "      <th>Soil_Type38</th>\n",
       "      <th>0</th>\n",
       "      <th>1</th>\n",
       "    </tr>\n",
       "    <tr>\n",
       "      <th>Cover_Type</th>\n",
       "      <th></th>\n",
       "      <th></th>\n",
       "    </tr>\n",
       "  </thead>\n",
       "  <tbody>\n",
       "    <tr>\n",
       "      <th>1</th>\n",
       "      <td>2080.0</td>\n",
       "      <td>80.0</td>\n",
       "    </tr>\n",
       "    <tr>\n",
       "      <th>2</th>\n",
       "      <td>2153.0</td>\n",
       "      <td>7.0</td>\n",
       "    </tr>\n",
       "    <tr>\n",
       "      <th>3</th>\n",
       "      <td>2160.0</td>\n",
       "      <td>NaN</td>\n",
       "    </tr>\n",
       "    <tr>\n",
       "      <th>4</th>\n",
       "      <td>2160.0</td>\n",
       "      <td>NaN</td>\n",
       "    </tr>\n",
       "    <tr>\n",
       "      <th>5</th>\n",
       "      <td>2160.0</td>\n",
       "      <td>NaN</td>\n",
       "    </tr>\n",
       "    <tr>\n",
       "      <th>6</th>\n",
       "      <td>2160.0</td>\n",
       "      <td>NaN</td>\n",
       "    </tr>\n",
       "    <tr>\n",
       "      <th>7</th>\n",
       "      <td>1519.0</td>\n",
       "      <td>641.0</td>\n",
       "    </tr>\n",
       "  </tbody>\n",
       "</table>\n",
       "</div>"
      ],
      "text/plain": [
       "Soil_Type38       0      1\n",
       "Cover_Type                \n",
       "1            2080.0   80.0\n",
       "2            2153.0    7.0\n",
       "3            2160.0    NaN\n",
       "4            2160.0    NaN\n",
       "5            2160.0    NaN\n",
       "6            2160.0    NaN\n",
       "7            1519.0  641.0"
      ]
     },
     "execution_count": 11,
     "metadata": {},
     "output_type": "execute_result"
    }
   ],
   "source": [
    "group = train.groupby(['Soil_Type38','Cover_Type']).size().reset_index().pivot(index='Cover_Type',columns='Soil_Type38',values=0)\n",
    "group"
   ]
  },
  {
   "cell_type": "code",
   "execution_count": 12,
   "metadata": {},
   "outputs": [
    {
     "data": {
      "image/png": "[encoded data removed]",
      "text/plain": [
       "<matplotlib.figure.Figure at 0x1164fa198>"
      ]
     },
     "metadata": {},
     "output_type": "display_data"
    }
   ],
   "source": [
    "group.plot(kind='bar',stacked=True)\n",
    "plt.show()"
   ]
  },
  {
   "cell_type": "code",
   "execution_count": 13,
   "metadata": {
    "collapsed": true
   },
   "outputs": [],
   "source": [
    "from sklearn.model_selection import train_test_split\n",
    "from sklearn.ensemble import RandomForestClassifier\n",
    "from sklearn.metrics import classification_report, accuracy_score\n",
    "from sklearn.feature_selection import SelectFromModel"
   ]
  },
  {
   "cell_type": "code",
   "execution_count": 14,
   "metadata": {
    "collapsed": true
   },
   "outputs": [],
   "source": [
    "X = train.drop('Cover_Type',axis=1)\n",
    "y = train['Cover_Type']"
   ]
  },
  {
   "cell_type": "code",
   "execution_count": 15,
   "metadata": {
    "collapsed": true
   },
   "outputs": [],
   "source": [
    "X_train, X_test, y_train, y_test = train_test_split(X, y, test_size=0.30, random_state=101)"
   ]
  },
  {
   "cell_type": "code",
   "execution_count": 16,
   "metadata": {
    "collapsed": true
   },
   "outputs": [],
   "source": [
    "rfc = RandomForestClassifier()"
   ]
  },
  {
   "cell_type": "code",
   "execution_count": 17,
   "metadata": {},
   "outputs": [
    {
     "data": {
      "text/plain": [
       "RandomForestClassifier(bootstrap=True, class_weight=None, criterion='gini',\n",
       "            max_depth=None, max_features='auto', max_leaf_nodes=None,\n",
       "            min_impurity_split=1e-07, min_samples_leaf=1,\n",
       "            min_samples_split=2, min_weight_fraction_leaf=0.0,\n",
       "            n_estimators=10, n_jobs=1, oob_score=False, random_state=None,\n",
       "            verbose=0, warm_start=False)"
      ]
     },
     "execution_count": 17,
     "metadata": {},
     "output_type": "execute_result"
    }
   ],
   "source": [
    "rfc.fit(X_train,y_train)"
   ]
  },
  {
   "cell_type": "code",
   "execution_count": 18,
   "metadata": {
    "collapsed": true
   },
   "outputs": [],
   "source": [
    "preds = rfc.predict(X_test)"
   ]
  },
  {
   "cell_type": "code",
   "execution_count": 19,
   "metadata": {},
   "outputs": [
    {
     "data": {
      "text/plain": [
       "0.82605820105820105"
      ]
     },
     "execution_count": 19,
     "metadata": {},
     "output_type": "execute_result"
    }
   ],
   "source": [
    "accuracy_score(y_test,preds)"
   ]
  },
  {
   "cell_type": "code",
   "execution_count": 20,
   "metadata": {},
   "outputs": [
    {
     "data": {
      "text/plain": [
       "SelectFromModel(estimator=RandomForestClassifier(bootstrap=True, class_weight=None, criterion='gini',\n",
       "            max_depth=None, max_features='auto', max_leaf_nodes=None,\n",
       "            min_impurity_split=1e-07, min_samples_leaf=1,\n",
       "            min_samples_split=2, min_weight_fraction_leaf=0.0,\n",
       "            n_estimators=100, n_jobs=1, oob_score=False, random_state=None,\n",
       "            verbose=0, warm_start=False),\n",
       "        prefit=False, threshold=None)"
      ]
     },
     "execution_count": 20,
     "metadata": {},
     "output_type": "execute_result"
    }
   ],
   "source": [
    "sel = SelectFromModel(RandomForestClassifier(n_estimators = 100))\n",
    "sel.fit(X_train, y_train)"
   ]
  },
  {
   "cell_type": "code",
   "execution_count": 21,
   "metadata": {},
   "outputs": [
    {
     "data": {
      "text/plain": [
       "array([ True,  True,  True,  True,  True,  True,  True,  True,  True,\n",
       "        True,  True, False, False, False,  True, False, False,  True,\n",
       "       False, False, False, False, False, False,  True, False, False,\n",
       "       False, False, False, False, False, False, False, False, False,\n",
       "       False, False, False, False, False, False, False, False, False,\n",
       "       False, False, False, False, False, False, False, False, False, False], dtype=bool)"
      ]
     },
     "execution_count": 21,
     "metadata": {},
     "output_type": "execute_result"
    }
   ],
   "source": [
    "sel.get_support()"
   ]
  },
  {
   "cell_type": "code",
   "execution_count": 22,
   "metadata": {
    "collapsed": true
   },
   "outputs": [],
   "source": [
    "selected = X.columns[(sel.get_support())]"
   ]
  },
  {
   "cell_type": "code",
   "execution_count": 23,
   "metadata": {},
   "outputs": [
    {
     "name": "stdout",
     "output_type": "stream",
     "text": [
      "Index(['Id', 'Elevation', 'Aspect', 'Slope',\n",
      "       'Horizontal_Distance_To_Hydrology', 'Vertical_Distance_To_Hydrology',\n",
      "       'Horizontal_Distance_To_Roadways', 'Hillshade_9am', 'Hillshade_Noon',\n",
      "       'Hillshade_3pm', 'Horizontal_Distance_To_Fire_Points',\n",
      "       'Wilderness_Area4', 'Soil_Type3', 'Soil_Type10'],\n",
      "      dtype='object')\n"
     ]
    }
   ],
   "source": [
    "print(selected)"
   ]
  },
  {
   "cell_type": "code",
   "execution_count": 24,
   "metadata": {
    "collapsed": true,
    "scrolled": true
   },
   "outputs": [],
   "source": [
    "X = train[selected].drop('Id',axis=1)"
   ]
  },
  {
   "cell_type": "code",
   "execution_count": 25,
   "metadata": {
    "collapsed": true
   },
   "outputs": [],
   "source": [
    "X_train, X_test, y_train, y_test = train_test_split(X, y, test_size=0.30, random_state=101)"
   ]
  },
  {
   "cell_type": "code",
   "execution_count": 26,
   "metadata": {
    "collapsed": true
   },
   "outputs": [],
   "source": [
    "rfc_new = RandomForestClassifier()"
   ]
  },
  {
   "cell_type": "code",
   "execution_count": 27,
   "metadata": {},
   "outputs": [
    {
     "data": {
      "text/plain": [
       "RandomForestClassifier(bootstrap=True, class_weight=None, criterion='gini',\n",
       "            max_depth=None, max_features='auto', max_leaf_nodes=None,\n",
       "            min_impurity_split=1e-07, min_samples_leaf=1,\n",
       "            min_samples_split=2, min_weight_fraction_leaf=0.0,\n",
       "            n_estimators=10, n_jobs=1, oob_score=False, random_state=None,\n",
       "            verbose=0, warm_start=False)"
      ]
     },
     "execution_count": 27,
     "metadata": {},
     "output_type": "execute_result"
    }
   ],
   "source": [
    "rfc_new.fit(X_train,y_train)"
   ]
  },
  {
   "cell_type": "code",
   "execution_count": 28,
   "metadata": {
    "collapsed": true
   },
   "outputs": [],
   "source": [
    "new_preds = rfc_new.predict(X_test)"
   ]
  },
  {
   "cell_type": "code",
   "execution_count": 29,
   "metadata": {},
   "outputs": [
    {
     "data": {
      "text/plain": [
       "0.79982363315696647"
      ]
     },
     "execution_count": 29,
     "metadata": {},
     "output_type": "execute_result"
    }
   ],
   "source": [
    "accuracy_score(y_test,new_preds)"
   ]
  },
  {
   "cell_type": "code",
   "execution_count": 30,
   "metadata": {
    "collapsed": true
   },
   "outputs": [],
   "source": [
    "X = train.drop(['Id','Cover_Type'],axis=1)\n",
    "y = train['Cover_Type']\n",
    "X_train, X_test, y_train, y_test = train_test_split(X.values, y.values, test_size=0.30, random_state=101)"
   ]
  },
  {
   "cell_type": "code",
   "execution_count": 31,
   "metadata": {
    "collapsed": true
   },
   "outputs": [],
   "source": [
    "import xgboost as xgb"
   ]
  },
  {
   "cell_type": "code",
   "execution_count": 32,
   "metadata": {
    "collapsed": true
   },
   "outputs": [],
   "source": [
    "xg_class = xgb.XGBClassifier(max_depth=5, learning_rate=0.01, n_estimators=1000, gamma=0, \n",
    "                        min_child_weight=1, subsample=0.8, colsample_bytree=0.8, reg_alpha=0.005)"
   ]
  },
  {
   "cell_type": "code",
   "execution_count": 33,
   "metadata": {},
   "outputs": [
    {
     "data": {
      "text/plain": [
       "XGBClassifier(base_score=0.5, booster='gbtree', colsample_bylevel=1,\n",
       "       colsample_bynode=1, colsample_bytree=0.8, gamma=0,\n",
       "       learning_rate=0.01, max_delta_step=0, max_depth=5,\n",
       "       min_child_weight=1, missing=None, n_estimators=1000, n_jobs=1,\n",
       "       nthread=None, objective='multi:softprob', random_state=0,\n",
       "       reg_alpha=0.005, reg_lambda=1, scale_pos_weight=1, seed=None,\n",
       "       silent=None, subsample=0.8, verbosity=1)"
      ]
     },
     "execution_count": 33,
     "metadata": {},
     "output_type": "execute_result"
    }
   ],
   "source": [
    "xg_class.fit(X_train,y_train)"
   ]
  },
  {
   "cell_type": "code",
   "execution_count": 34,
   "metadata": {
    "collapsed": true
   },
   "outputs": [],
   "source": [
    "xgb_preds = xg_class.predict(X_test)"
   ]
  },
  {
   "cell_type": "code",
   "execution_count": 35,
   "metadata": {},
   "outputs": [
    {
     "data": {
      "text/plain": [
       "array([5, 5, 1, ..., 6, 3, 3])"
      ]
     },
     "execution_count": 35,
     "metadata": {},
     "output_type": "execute_result"
    }
   ],
   "source": [
    "xgb_preds"
   ]
  },
  {
   "cell_type": "code",
   "execution_count": 36,
   "metadata": {},
   "outputs": [
    {
     "data": {
      "text/plain": [
       "0.8070987654320988"
      ]
     },
     "execution_count": 36,
     "metadata": {},
     "output_type": "execute_result"
    }
   ],
   "source": [
    "accuracy_score(y_test,xgb_preds)"
   ]
  },
  {
   "cell_type": "code",
   "execution_count": 37,
   "metadata": {},
   "outputs": [
    {
     "data": {
      "text/plain": [
       "Index(['Elevation', 'Aspect', 'Slope', 'Horizontal_Distance_To_Hydrology',\n",
       "       'Vertical_Distance_To_Hydrology', 'Horizontal_Distance_To_Roadways',\n",
       "       'Hillshade_9am', 'Hillshade_Noon', 'Hillshade_3pm',\n",
       "       'Horizontal_Distance_To_Fire_Points', 'Wilderness_Area1',\n",
       "       'Wilderness_Area2', 'Wilderness_Area3', 'Wilderness_Area4',\n",
       "       'Soil_Type1', 'Soil_Type2', 'Soil_Type3', 'Soil_Type4', 'Soil_Type5',\n",
       "       'Soil_Type6', 'Soil_Type7', 'Soil_Type8', 'Soil_Type9', 'Soil_Type10',\n",
       "       'Soil_Type11', 'Soil_Type12', 'Soil_Type13', 'Soil_Type14',\n",
       "       'Soil_Type15', 'Soil_Type16', 'Soil_Type17', 'Soil_Type18',\n",
       "       'Soil_Type19', 'Soil_Type20', 'Soil_Type21', 'Soil_Type22',\n",
       "       'Soil_Type23', 'Soil_Type24', 'Soil_Type25', 'Soil_Type26',\n",
       "       'Soil_Type27', 'Soil_Type28', 'Soil_Type29', 'Soil_Type30',\n",
       "       'Soil_Type31', 'Soil_Type32', 'Soil_Type33', 'Soil_Type34',\n",
       "       'Soil_Type35', 'Soil_Type36', 'Soil_Type37', 'Soil_Type38',\n",
       "       'Soil_Type39', 'Soil_Type40'],\n",
       "      dtype='object')"
      ]
     },
     "execution_count": 37,
     "metadata": {},
     "output_type": "execute_result"
    }
   ],
   "source": [
    "X.columns"
   ]
  },
  {
   "cell_type": "code",
   "execution_count": 39,
   "metadata": {},
   "outputs": [],
   "source": [
    "test_preds = xg_class.predict((test.drop('Id',axis=1)).values)"
   ]
  },
  {
   "cell_type": "code",
   "execution_count": null,
   "metadata": {},
   "outputs": [],
   "source": [
    "len(test.columns)"
   ]
  },
  {
   "cell_type": "code",
   "execution_count": 45,
   "metadata": {},
   "outputs": [
    {
     "data": {
      "text/plain": [
       "56"
      ]
     },
     "execution_count": 45,
     "metadata": {},
     "output_type": "execute_result"
    }
   ],
   "source": [
    "len(train.columns)"
   ]
  },
  {
   "cell_type": "code",
   "execution_count": 50,
   "metadata": {},
   "outputs": [],
   "source": [
    "rfc_preds_final = rfc.predict(test)"
   ]
  },
  {
   "cell_type": "code",
   "execution_count": 51,
   "metadata": {
    "collapsed": true
   },
   "outputs": [],
   "source": [
    "test_ids = test['Id']\n",
    "submission = pd.DataFrame({'Id':test_ids,'Cover_Type':rfc_preds_final})"
   ]
  },
  {
   "cell_type": "code",
   "execution_count": 52,
   "metadata": {},
   "outputs": [],
   "source": [
    "submission.to_csv('submission.csv',index=False)"
   ]
  },
  {
   "cell_type": "code",
   "execution_count": null,
   "metadata": {
    "collapsed": true
   },
   "outputs": [],
   "source": []
  }
 ],
 "metadata": {
  "kernelspec": {
   "display_name": "Python 3",
   "language": "python",
   "name": "python3"
  },
  "language_info": {
   "codemirror_mode": {
    "name": "ipython",
    "version": 3
   },
   "file_extension": ".py",
   "mimetype": "text/x-python",
   "name": "python",
   "nbconvert_exporter": "python",
   "pygments_lexer": "ipython3",
   "version": "3.6.1"
  }
 },
 "nbformat": 4,
 "nbformat_minor": 2
}
